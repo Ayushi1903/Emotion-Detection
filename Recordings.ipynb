{
 "cells": [
  {
   "cell_type": "code",
   "execution_count": 3,
   "id": "feea8dd9",
   "metadata": {},
   "outputs": [],
   "source": [
    "from gtts import gTTS\n",
    "from playsound import playsound\n",
    "import shutil\n",
    "import os\n",
    "\n",
    "\n",
    "# 1. Emotions Reactions\n",
    "tts_angry = gTTS(\"Wow you look cute even when angry!\")\n",
    "tts_angry.save(\"audio.mp3\")\n",
    "\n",
    "tts_fear = gTTS(\"Don't be Scared Buddy I will protect you.\")\n",
    "tts_fear.save(\"fear.mp3\")\n",
    "\n",
    "tts_happy = gTTS(\"You Look Pretty when you smile!\")\n",
    "tts_happy.save(\"happy.mp3\")\n",
    "\n",
    "tts_neutral = gTTS(\"Don't be so serious dude!\")\n",
    "tts_neutral.save(\"neutral.mp3\")\n",
    "\n",
    "tts_sad = gTTS(\"Hello There Sad Face I would Appreciate a smile.\")\n",
    "tts_sad.save(\"sad.mp3\")\n",
    "\n",
    "tts_surprise = gTTS(\"You seem surprised at how awesome I am.\")\n",
    "tts_surprise.save(\"surprise.mp3\")\n",
    "\n",
    "# 2. Finger Reactions\n",
    "\n",
    "tts_loser = gTTS(\"Nothing wrong in being a loser. You can be a winner someday too.\")\n",
    "tts_loser.save(\"loser.mp3\")\n",
    "\n",
    "tts_punch = gTTS(\"You think your Bruce Lee now?\")\n",
    "tts_punch.save(\"punch.mp3\")\n",
    "\n",
    "tts_super = gTTS(\"Wow, Thats Wonderful!\")\n",
    "tts_super.save(\"super.mp3\")\n",
    "\n",
    "tts_victory = gTTS(\"Yes! We are indeed victorious.\")\n",
    "tts_victory.save(\"victory.mp3\")\n"
   ]
  },
  {
   "cell_type": "code",
   "execution_count": null,
   "id": "08b8a5ba",
   "metadata": {},
   "outputs": [],
   "source": []
  }
 ],
 "metadata": {
  "kernelspec": {
   "display_name": "Python 3 (ipykernel)",
   "language": "python",
   "name": "python3"
  },
  "language_info": {
   "codemirror_mode": {
    "name": "ipython",
    "version": 3
   },
   "file_extension": ".py",
   "mimetype": "text/x-python",
   "name": "python",
   "nbconvert_exporter": "python",
   "pygments_lexer": "ipython3",
   "version": "3.9.7"
  }
 },
 "nbformat": 4,
 "nbformat_minor": 5
}
