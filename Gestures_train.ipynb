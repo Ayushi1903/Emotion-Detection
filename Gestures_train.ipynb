{
 "cells": [
  {
   "cell_type": "code",
   "execution_count": 2,
   "id": "614ace21",
   "metadata": {},
   "outputs": [],
   "source": [
    "import keras\n",
    "import tensorflow as tf\n",
    "from tensorflow.keras.applications import VGG16\n",
    "from tensorflow.keras.preprocessing.image import ImageDataGenerator\n",
    "from tensorflow.keras.layers import Input, Conv2D, MaxPool2D, Dropout, BatchNormalization, Dense, Flatten\n",
    "from tensorflow.keras.models import Sequential, Model\n",
    "from tensorflow.keras.regularizers import l2\n",
    "from tensorflow.keras.optimizers import Adam\n",
    "import os"
   ]
  },
  {
   "cell_type": "code",
   "execution_count": 3,
   "id": "690bcadb",
   "metadata": {},
   "outputs": [],
   "source": [
    "num_classes = 4\n",
    "\n",
    "Img_Height = 200\n",
    "Img_width = 200\n",
    "\n",
    "batch_size = 128"
   ]
  },
  {
   "cell_type": "code",
   "execution_count": 4,
   "id": "549fbacd",
   "metadata": {},
   "outputs": [],
   "source": [
    "train_dir = \"Desktop/asl_alphabet_train\"\n",
    "validation_dir = \"Desktop/asl_alphabet_train\""
   ]
  },
  {
   "cell_type": "code",
   "execution_count": 5,
   "id": "1cbd502a",
   "metadata": {},
   "outputs": [
    {
     "name": "stdout",
     "output_type": "stream",
     "text": [
      "Found 12000 images belonging to 4 classes.\n",
      "Found 12000 images belonging to 4 classes.\n"
     ]
    }
   ],
   "source": [
    "train_datagen = ImageDataGenerator(rescale=1./255,\n",
    "                                   rotation_range=30,\n",
    "                                   shear_range=0.3,\n",
    "                                   zoom_range=0.3,\n",
    "                                   width_shift_range=0.4,\n",
    "                                   height_shift_range=0.4,\n",
    "                                   horizontal_flip=True,\n",
    "                                   fill_mode='nearest')\n",
    "\n",
    "validation_datagen = ImageDataGenerator(rescale=1./255)\n",
    "\n",
    "train_generator = train_datagen.flow_from_directory(train_dir,\n",
    "                                                    target_size=(Img_Height, Img_width),\n",
    "                                                    batch_size=batch_size,\n",
    "                                                    class_mode='categorical',\n",
    "                                                    shuffle=True)\n",
    "\n",
    "validation_generator = validation_datagen.flow_from_directory(validation_dir,\n",
    "                                                             target_size=(Img_Height, Img_width),\n",
    "                                                             batch_size=batch_size,\n",
    "                                                             class_mode='categorical',\n",
    "                                                             shuffle=True)"
   ]
  },
  {
   "cell_type": "code",
   "execution_count": 6,
   "id": "628b968e",
   "metadata": {},
   "outputs": [
    {
     "name": "stdout",
     "output_type": "stream",
     "text": [
      "False\n",
      "False\n",
      "False\n",
      "False\n",
      "False\n",
      "False\n",
      "False\n",
      "False\n",
      "False\n",
      "False\n",
      "False\n",
      "False\n",
      "False\n",
      "False\n",
      "False\n",
      "False\n",
      "False\n",
      "False\n",
      "False\n"
     ]
    }
   ],
   "source": [
    "VGG16_MODEL = VGG16(input_shape=(Img_width, Img_Height, 3), include_top=False, weights='imagenet')\n",
    "\n",
    "for layers in VGG16_MODEL.layers: \n",
    "    layers.trainable=False\n",
    "\n",
    "for layers in VGG16_MODEL.layers:\n",
    "    print(layers.trainable)"
   ]
  },
  {
   "cell_type": "code",
   "execution_count": 7,
   "id": "8a66414d",
   "metadata": {},
   "outputs": [],
   "source": [
    "# Input layer\n",
    "input_layer = VGG16_MODEL.output\n",
    "\n",
    "# Convolutional Layer\n",
    "Conv1 = Conv2D(filters=32, kernel_size=(3,3), strides=(1,1), padding='valid',\n",
    "               data_format='channels_last', activation='relu', \n",
    "               kernel_initializer=keras.initializers.he_normal(seed=0), \n",
    "               name='Conv1')(input_layer)\n",
    "\n",
    "# MaxPool Layer\n",
    "Pool1 = MaxPool2D(pool_size=(2,2),strides=(2,2),padding='valid', \n",
    "                  data_format='channels_last',name='Pool1')(Conv1)\n",
    "\n",
    "# Flatten\n",
    "flatten = Flatten(data_format='channels_last',name='Flatten')(Pool1)\n",
    "\n",
    "# Fully Connected layer-1\n",
    "FC1 = Dense(units=30, activation='relu', \n",
    "            kernel_initializer=keras.initializers.glorot_normal(seed=32), \n",
    "            name='FC1')(flatten)\n",
    "\n",
    "# Fully Connected layer-2\n",
    "FC2 = Dense(units=30, activation='relu', \n",
    "            kernel_initializer=keras.initializers.glorot_normal(seed=33),\n",
    "            name='FC2')(FC1)\n",
    "\n",
    "# Output layer\n",
    "Out = Dense(units=num_classes, activation='softmax', \n",
    "            kernel_initializer=keras.initializers.glorot_normal(seed=3), \n",
    "            name='Output')(FC2)\n",
    "\n",
    "model1 = Model(inputs=VGG16_MODEL.input,outputs=Out)"
   ]
  },
  {
   "cell_type": "code",
   "execution_count": 8,
   "id": "f65966e3",
   "metadata": {},
   "outputs": [],
   "source": [
    "model1 = Model(inputs=VGG16_MODEL.input, outputs=Out)"
   ]
  },
  {
   "cell_type": "code",
   "execution_count": 9,
   "id": "00937da5",
   "metadata": {},
   "outputs": [
    {
     "name": "stdout",
     "output_type": "stream",
     "text": [
      "Model: \"model_1\"\n",
      "_________________________________________________________________\n",
      " Layer (type)                Output Shape              Param #   \n",
      "=================================================================\n",
      " input_1 (InputLayer)        [(None, 200, 200, 3)]     0         \n",
      "                                                                 \n",
      " block1_conv1 (Conv2D)       (None, 200, 200, 64)      1792      \n",
      "                                                                 \n",
      " block1_conv2 (Conv2D)       (None, 200, 200, 64)      36928     \n",
      "                                                                 \n",
      " block1_pool (MaxPooling2D)  (None, 100, 100, 64)      0         \n",
      "                                                                 \n",
      " block2_conv1 (Conv2D)       (None, 100, 100, 128)     73856     \n",
      "                                                                 \n",
      " block2_conv2 (Conv2D)       (None, 100, 100, 128)     147584    \n",
      "                                                                 \n",
      " block2_pool (MaxPooling2D)  (None, 50, 50, 128)       0         \n",
      "                                                                 \n",
      " block3_conv1 (Conv2D)       (None, 50, 50, 256)       295168    \n",
      "                                                                 \n",
      " block3_conv2 (Conv2D)       (None, 50, 50, 256)       590080    \n",
      "                                                                 \n",
      " block3_conv3 (Conv2D)       (None, 50, 50, 256)       590080    \n",
      "                                                                 \n",
      " block3_pool (MaxPooling2D)  (None, 25, 25, 256)       0         \n",
      "                                                                 \n",
      " block4_conv1 (Conv2D)       (None, 25, 25, 512)       1180160   \n",
      "                                                                 \n",
      " block4_conv2 (Conv2D)       (None, 25, 25, 512)       2359808   \n",
      "                                                                 \n",
      " block4_conv3 (Conv2D)       (None, 25, 25, 512)       2359808   \n",
      "                                                                 \n",
      " block4_pool (MaxPooling2D)  (None, 12, 12, 512)       0         \n",
      "                                                                 \n",
      " block5_conv1 (Conv2D)       (None, 12, 12, 512)       2359808   \n",
      "                                                                 \n",
      " block5_conv2 (Conv2D)       (None, 12, 12, 512)       2359808   \n",
      "                                                                 \n",
      " block5_conv3 (Conv2D)       (None, 12, 12, 512)       2359808   \n",
      "                                                                 \n",
      " block5_pool (MaxPooling2D)  (None, 6, 6, 512)         0         \n",
      "                                                                 \n",
      " Conv1 (Conv2D)              (None, 4, 4, 32)          147488    \n",
      "                                                                 \n",
      " Pool1 (MaxPooling2D)        (None, 2, 2, 32)          0         \n",
      "                                                                 \n",
      " Flatten (Flatten)           (None, 128)               0         \n",
      "                                                                 \n",
      " FC1 (Dense)                 (None, 30)                3870      \n",
      "                                                                 \n",
      " FC2 (Dense)                 (None, 30)                930       \n",
      "                                                                 \n",
      " Output (Dense)              (None, 4)                 124       \n",
      "                                                                 \n",
      "=================================================================\n",
      "Total params: 14,867,100\n",
      "Trainable params: 152,412\n",
      "Non-trainable params: 14,714,688\n",
      "_________________________________________________________________\n"
     ]
    }
   ],
   "source": [
    "model1.summary()"
   ]
  },
  {
   "cell_type": "code",
   "execution_count": 10,
   "id": "9141e472",
   "metadata": {},
   "outputs": [
    {
     "name": "stdout",
     "output_type": "stream",
     "text": [
      "You must install pydot (`pip install pydot`) and install graphviz (see instructions at https://graphviz.gitlab.io/download/) for plot_model/model_to_dot to work.\n"
     ]
    }
   ],
   "source": [
    "from tensorflow import keras\n",
    "from keras.utils.vis_utils import plot_model\n",
    "from keras.utils import np_utils\n",
    "\n",
    "keras.utils.plot_model(model1, to_file='model1.png', show_layer_names=True)"
   ]
  },
  {
   "cell_type": "code",
   "execution_count": 11,
   "id": "3a44f2c8",
   "metadata": {},
   "outputs": [
    {
     "name": "stdout",
     "output_type": "stream",
     "text": [
      "WARNING:tensorflow:`period` argument is deprecated. Please use `save_freq` to specify the frequency in number of batches seen.\n"
     ]
    }
   ],
   "source": [
    "from tensorflow.keras.callbacks import ModelCheckpoint\n",
    "from tensorflow.keras.callbacks import ReduceLROnPlateau\n",
    "from tensorflow.keras.callbacks import TensorBoard\n",
    "\n",
    "checkpoint = ModelCheckpoint(\"gesturenew.h5\", monitor='accuracy', verbose=1,\n",
    "    save_best_only=True, mode='auto', period=1)\n",
    "\n",
    "reduce = ReduceLROnPlateau(monitor='accuracy', factor=0.2, patience=5, min_lr=0.00001, verbose = 1)\n",
    "\n",
    "logdir='logsgesture'\n",
    "tensorboard_Visualization = TensorBoard(log_dir=logdir, histogram_freq=True)"
   ]
  },
  {
   "cell_type": "code",
   "execution_count": 12,
   "id": "65d70c1b",
   "metadata": {},
   "outputs": [
    {
     "name": "stderr",
     "output_type": "stream",
     "text": [
      "C:\\Users\\ayush\\anaconda3\\lib\\site-packages\\keras\\optimizer_v2\\adam.py:105: UserWarning: The `lr` argument is deprecated, use `learning_rate` instead.\n",
      "  super(Adam, self).__init__(name, **kwargs)\n"
     ]
    }
   ],
   "source": [
    "model1.compile(loss='categorical_crossentropy',\n",
    "              optimizer=Adam(lr=0.001),\n",
    "              metrics=['accuracy']\n",
    "              )"
   ]
  },
  {
   "cell_type": "code",
   "execution_count": null,
   "id": "b1064141",
   "metadata": {},
   "outputs": [
    {
     "name": "stdout",
     "output_type": "stream",
     "text": [
      "Epoch 1/50\n",
      "51/75 [===================>..........] - ETA: 1:01:32 - loss: 0.9259 - accuracy: 0.6169"
     ]
    }
   ],
   "source": [
    "train_samples = 9600\n",
    "validation_samples = 2400\n",
    "\n",
    "epochs = 50\n",
    "\n",
    "batch_size = 128\n",
    "\n",
    "model1.fit(train_generator,\n",
    "           steps_per_epoch = train_samples//batch_size,\n",
    "           epochs = epochs,\n",
    "           callbacks = [checkpoint, reduce, tensorboard_Visualization],\n",
    "           validation_data = validation_generator,\n",
    "           validation_steps = validation_samples//batch_size)"
   ]
  },
  {
   "cell_type": "code",
   "execution_count": null,
   "id": "32cb8aca",
   "metadata": {},
   "outputs": [],
   "source": []
  }
 ],
 "metadata": {
  "kernelspec": {
   "display_name": "Python 3 (ipykernel)",
   "language": "python",
   "name": "python3"
  },
  "language_info": {
   "codemirror_mode": {
    "name": "ipython",
    "version": 3
   },
   "file_extension": ".py",
   "mimetype": "text/x-python",
   "name": "python",
   "nbconvert_exporter": "python",
   "pygments_lexer": "ipython3",
   "version": "3.9.7"
  }
 },
 "nbformat": 4,
 "nbformat_minor": 5
}
