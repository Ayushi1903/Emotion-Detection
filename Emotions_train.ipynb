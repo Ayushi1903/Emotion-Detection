{
 "cells": [
  {
   "cell_type": "code",
   "execution_count": 3,
   "id": "a583595c",
   "metadata": {},
   "outputs": [],
   "source": [
    "import keras\n",
    "import tensorflow as tf\n",
    "from tensorflow.keras.preprocessing.image import ImageDataGenerator\n",
    "from tensorflow.keras.layers import Input, Conv2D, MaxPooling2D, Dropout, BatchNormalization, Dense, Flatten, Activation\n",
    "from tensorflow.keras.models import Sequential, Model\n",
    "from tensorflow.keras.regularizers import l2\n",
    "from tensorflow.keras.optimizers import Adam\n",
    "import numpy as np\n",
    "import pydot_ng\n",
    "import graphviz\n",
    "import os"
   ]
  },
  {
   "cell_type": "code",
   "execution_count": 4,
   "id": "5ac68cb6",
   "metadata": {},
   "outputs": [],
   "source": [
    "num_classes = 6\n",
    "\n",
    "Img_Height = 48\n",
    "Img_width = 48\n",
    "\n",
    "batch_size = 32"
   ]
  },
  {
   "cell_type": "code",
   "execution_count": 5,
   "id": "4b2b3e89",
   "metadata": {},
   "outputs": [],
   "source": [
    "train_dir = \"train\"\n",
    "validation_dir = \"validation\""
   ]
  },
  {
   "cell_type": "code",
   "execution_count": 6,
   "id": "fb47b3bb",
   "metadata": {},
   "outputs": [
    {
     "name": "stdout",
     "output_type": "stream",
     "text": [
      "Found 28709 images belonging to 7 classes.\n",
      "Found 7178 images belonging to 7 classes.\n"
     ]
    }
   ],
   "source": [
    "train_datagen = ImageDataGenerator(rescale=1./255,\n",
    "                                   rotation_range=60,\n",
    "                                   shear_range=0.5,\n",
    "                                   zoom_range=0.5,\n",
    "                                   width_shift_range=0.5,\n",
    "                                   height_shift_range=0.5,\n",
    "                                   horizontal_flip=True,\n",
    "                                   fill_mode='nearest')\n",
    "\n",
    "validation_datagen = ImageDataGenerator(rescale=1./255)\n",
    "\n",
    "train_generator = train_datagen.flow_from_directory(train_dir,\n",
    "                                                    color_mode='grayscale',\n",
    "                                                    target_size=(Img_Height, Img_width),\n",
    "                                                    batch_size=batch_size,\n",
    "                                                    class_mode='categorical',\n",
    "                                                    shuffle=True)\n",
    "\n",
    "validation_generator = validation_datagen.flow_from_directory(validation_dir,\n",
    "                                                              color_mode='grayscale',\n",
    "                                                              target_size=(Img_Height, Img_width),\n",
    "                                                              batch_size=batch_size,\n",
    "                                                              class_mode='categorical',\n",
    "                                                              shuffle=True)"
   ]
  },
  {
   "cell_type": "code",
   "execution_count": 7,
   "id": "17ff874d",
   "metadata": {},
   "outputs": [],
   "source": [
    "model = Sequential()\n",
    "\n",
    "# Block-1: The First Convolutional Block\n",
    "\n",
    "model.add(Conv2D(filters=32, kernel_size=(3,3), padding='same', \n",
    "                 kernel_initializer='he_normal',\n",
    "                 activation=\"elu\", \n",
    "                 input_shape=(Img_Height, Img_width, 1), \n",
    "                 name=\"Conv1\"))\n",
    "\n",
    "model.add(BatchNormalization(name=\"Batch_Norm1\"))\n",
    "\n",
    "model.add(Conv2D(filters=32, kernel_size=(3,3), padding='same', \n",
    "                 kernel_initializer='he_normal', \n",
    "                 activation=\"elu\", name=\"Conv2\"))\n",
    "\n",
    "model.add(BatchNormalization(name=\"Batch_Norm2\"))\n",
    "model.add(MaxPooling2D(pool_size=(2,2), name=\"Maxpool1\"))\n",
    "model.add(Dropout(0.2, name=\"Dropout1\"))\n",
    "\n",
    "# Block-2: The Second Convolutional Block\n",
    "\n",
    "model.add(Conv2D(filters=64, kernel_size=(3,3), padding='same', \n",
    "                 kernel_initializer='he_normal',\n",
    "                 activation=\"elu\", name=\"Conv3\"))\n",
    "\n",
    "model.add(BatchNormalization(name=\"Batch_Norm3\"))\n",
    "\n",
    "model.add(Conv2D(filters=64,kernel_size=(3,3),padding='same',\n",
    "                 kernel_initializer='he_normal', \n",
    "                 activation=\"elu\", name=\"Conv4\"))\n",
    "\n",
    "model.add(BatchNormalization(name=\"Batch_Norm4\"))\n",
    "model.add(MaxPooling2D(pool_size=(2,2), name=\"Maxpool2\"))\n",
    "model.add(Dropout(0.2, name=\"Dropout2\"))\n",
    "\n",
    "# Block-3: The Third Convolutional Block\n",
    "\n",
    "model.add(Conv2D(filters=128, kernel_size=(3,3), padding='same', \n",
    "                 kernel_initializer='he_normal', \n",
    "                 activation=\"elu\", name=\"Conv5\"))\n",
    "\n",
    "model.add(BatchNormalization(name=\"Batch_Norm5\"))\n",
    "\n",
    "model.add(Conv2D(filters=128, kernel_size=(3,3), padding='same', \n",
    "                 kernel_initializer='he_normal',\n",
    "                 activation=\"elu\", name=\"Conv6\"))\n",
    "\n",
    "model.add(BatchNormalization(name=\"Batch_Norm6\"))\n",
    "model.add(MaxPooling2D(pool_size=(2,2), name=\"Maxpool3\"))\n",
    "model.add(Dropout(0.2, name=\"Dropout3\"))\n",
    "\n",
    "# Block-4: The Fully Connected Block\n",
    "\n",
    "model.add(Flatten(name=\"Flatten\"))\n",
    "model.add(Dense(64, activation=\"elu\", kernel_initializer='he_normal', name=\"Dense\"))\n",
    "model.add(BatchNormalization(name=\"Batch_Norm7\"))\n",
    "model.add(Dropout(0.5, name=\"Dropout4\"))\n",
    "\n",
    "# Block-5: The Output Block\n",
    "\n",
    "model.add(Dense(num_classes, activation=\"softmax\", kernel_initializer='he_normal', name = \"Output\"))"
   ]
  },
  {
   "cell_type": "code",
   "execution_count": 8,
   "id": "3077d3be",
   "metadata": {},
   "outputs": [
    {
     "name": "stdout",
     "output_type": "stream",
     "text": [
      "Model: \"sequential\"\n",
      "_________________________________________________________________\n",
      " Layer (type)                Output Shape              Param #   \n",
      "=================================================================\n",
      " Conv1 (Conv2D)              (None, 48, 48, 32)        320       \n",
      "                                                                 \n",
      " Batch_Norm1 (BatchNormaliza  (None, 48, 48, 32)       128       \n",
      " tion)                                                           \n",
      "                                                                 \n",
      " Conv2 (Conv2D)              (None, 48, 48, 32)        9248      \n",
      "                                                                 \n",
      " Batch_Norm2 (BatchNormaliza  (None, 48, 48, 32)       128       \n",
      " tion)                                                           \n",
      "                                                                 \n",
      " Maxpool1 (MaxPooling2D)     (None, 24, 24, 32)        0         \n",
      "                                                                 \n",
      " Dropout1 (Dropout)          (None, 24, 24, 32)        0         \n",
      "                                                                 \n",
      " Conv3 (Conv2D)              (None, 24, 24, 64)        18496     \n",
      "                                                                 \n",
      " Batch_Norm3 (BatchNormaliza  (None, 24, 24, 64)       256       \n",
      " tion)                                                           \n",
      "                                                                 \n",
      " Conv4 (Conv2D)              (None, 24, 24, 64)        36928     \n",
      "                                                                 \n",
      " Batch_Norm4 (BatchNormaliza  (None, 24, 24, 64)       256       \n",
      " tion)                                                           \n",
      "                                                                 \n",
      " Maxpool2 (MaxPooling2D)     (None, 12, 12, 64)        0         \n",
      "                                                                 \n",
      " Dropout2 (Dropout)          (None, 12, 12, 64)        0         \n",
      "                                                                 \n",
      " Conv5 (Conv2D)              (None, 12, 12, 128)       73856     \n",
      "                                                                 \n",
      " Batch_Norm5 (BatchNormaliza  (None, 12, 12, 128)      512       \n",
      " tion)                                                           \n",
      "                                                                 \n",
      " Conv6 (Conv2D)              (None, 12, 12, 128)       147584    \n",
      "                                                                 \n",
      " Batch_Norm6 (BatchNormaliza  (None, 12, 12, 128)      512       \n",
      " tion)                                                           \n",
      "                                                                 \n",
      " Maxpool3 (MaxPooling2D)     (None, 6, 6, 128)         0         \n",
      "                                                                 \n",
      " Dropout3 (Dropout)          (None, 6, 6, 128)         0         \n",
      "                                                                 \n",
      " Flatten (Flatten)           (None, 4608)              0         \n",
      "                                                                 \n",
      " Dense (Dense)               (None, 64)                294976    \n",
      "                                                                 \n",
      " Batch_Norm7 (BatchNormaliza  (None, 64)               256       \n",
      " tion)                                                           \n",
      "                                                                 \n",
      " Dropout4 (Dropout)          (None, 64)                0         \n",
      "                                                                 \n",
      " Output (Dense)              (None, 6)                 390       \n",
      "                                                                 \n",
      "=================================================================\n",
      "Total params: 583,846\n",
      "Trainable params: 582,822\n",
      "Non-trainable params: 1,024\n",
      "_________________________________________________________________\n"
     ]
    }
   ],
   "source": [
    "model.summary()"
   ]
  },
  {
   "cell_type": "code",
   "execution_count": 9,
   "id": "a3852f3c",
   "metadata": {},
   "outputs": [
    {
     "name": "stdout",
     "output_type": "stream",
     "text": [
      "You must install pydot (`pip install pydot`) and install graphviz (see instructions at https://graphviz.gitlab.io/download/) for plot_model/model_to_dot to work.\n"
     ]
    }
   ],
   "source": [
    "from tensorflow import keras\n",
    "from keras.utils.vis_utils import plot_model\n",
    "from keras.utils import np_utils\n",
    "\n",
    "keras.utils.plot_model(model, to_file='model.png', show_layer_names=True)"
   ]
  },
  {
   "cell_type": "code",
   "execution_count": 10,
   "id": "1bd9b37f",
   "metadata": {},
   "outputs": [
    {
     "name": "stdout",
     "output_type": "stream",
     "text": [
      "WARNING:tensorflow:`period` argument is deprecated. Please use `save_freq` to specify the frequency in number of batches seen.\n"
     ]
    }
   ],
   "source": [
    "from tensorflow.keras.callbacks import ModelCheckpoint\n",
    "from tensorflow.keras.callbacks import ReduceLROnPlateau\n",
    "from tensorflow.keras.callbacks import TensorBoard\n",
    "\n",
    "checkpoint = ModelCheckpoint(\"emotions.h5\", monitor='accuracy', verbose=1,\n",
    "                              save_best_only=True, mode='auto', period=1)\n",
    "\n",
    "reduce = ReduceLROnPlateau(monitor='accuracy', factor=0.2, patience=10, \n",
    "                           min_lr=0.0001, verbose = 1)\n",
    "\n",
    "logdir='logs'\n",
    "tensorboard_Visualization = TensorBoard(log_dir=logdir, histogram_freq=False)"
   ]
  },
  {
   "cell_type": "code",
   "execution_count": 11,
   "id": "c128116d",
   "metadata": {},
   "outputs": [
    {
     "name": "stderr",
     "output_type": "stream",
     "text": [
      "C:\\Users\\ayush\\anaconda3\\lib\\site-packages\\keras\\optimizer_v2\\adam.py:105: UserWarning: The `lr` argument is deprecated, use `learning_rate` instead.\n",
      "  super(Adam, self).__init__(name, **kwargs)\n"
     ]
    }
   ],
   "source": [
    "model.compile(loss='categorical_crossentropy',\n",
    "              optimizer = Adam(lr = 0.001),\n",
    "              metrics=['accuracy'])"
   ]
  },
  {
   "cell_type": "code",
   "execution_count": null,
   "id": "84aca8d3",
   "metadata": {},
   "outputs": [],
   "source": []
  }
 ],
 "metadata": {
  "kernelspec": {
   "display_name": "Python 3 (ipykernel)",
   "language": "python",
   "name": "python3"
  },
  "language_info": {
   "codemirror_mode": {
    "name": "ipython",
    "version": 3
   },
   "file_extension": ".py",
   "mimetype": "text/x-python",
   "name": "python",
   "nbconvert_exporter": "python",
   "pygments_lexer": "ipython3",
   "version": "3.9.7"
  }
 },
 "nbformat": 4,
 "nbformat_minor": 5
}
